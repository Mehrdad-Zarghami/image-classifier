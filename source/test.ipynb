{
 "cells": [
  {
   "cell_type": "markdown",
   "metadata": {},
   "source": [
    "# Data Preprocessing"
   ]
  },
  {
   "cell_type": "code",
   "execution_count": 1,
   "metadata": {},
   "outputs": [],
   "source": [
    "from pathlib import Path\n",
    "import shutil\n",
    "import pandas as pd\n",
    "from sklearn.model_selection import train_test_split"
   ]
  },
  {
   "cell_type": "code",
   "execution_count": 2,
   "metadata": {},
   "outputs": [],
   "source": [
    "\n",
    "# Define paths using pathlib\n",
    "data_dir = Path(\"../data\")\n",
    "csv_path = data_dir / \"train.csv\"\n",
    "train_img_dir = data_dir / \"train\"\n",
    "train_output = data_dir / \"train_split\"\n",
    "val_output = data_dir / \"val_split\""
   ]
  },
  {
   "cell_type": "code",
   "execution_count": 3,
   "metadata": {},
   "outputs": [
    {
     "data": {
      "text/html": [
       "<div>\n",
       "<style scoped>\n",
       "    .dataframe tbody tr th:only-of-type {\n",
       "        vertical-align: middle;\n",
       "    }\n",
       "\n",
       "    .dataframe tbody tr th {\n",
       "        vertical-align: top;\n",
       "    }\n",
       "\n",
       "    .dataframe thead th {\n",
       "        text-align: right;\n",
       "    }\n",
       "</style>\n",
       "<table border=\"1\" class=\"dataframe\">\n",
       "  <thead>\n",
       "    <tr style=\"text-align: right;\">\n",
       "      <th></th>\n",
       "      <th>image_ID</th>\n",
       "      <th>label</th>\n",
       "    </tr>\n",
       "  </thead>\n",
       "  <tbody>\n",
       "    <tr>\n",
       "      <th>0</th>\n",
       "      <td>7c225f7b61.jpg</td>\n",
       "      <td>Badminton</td>\n",
       "    </tr>\n",
       "    <tr>\n",
       "      <th>1</th>\n",
       "      <td>b31.jpg</td>\n",
       "      <td>Badminton</td>\n",
       "    </tr>\n",
       "    <tr>\n",
       "      <th>2</th>\n",
       "      <td>acb146546c.jpg</td>\n",
       "      <td>Badminton</td>\n",
       "    </tr>\n",
       "    <tr>\n",
       "      <th>3</th>\n",
       "      <td>0e62f4d8f2.jpg</td>\n",
       "      <td>Badminton</td>\n",
       "    </tr>\n",
       "    <tr>\n",
       "      <th>4</th>\n",
       "      <td>cfd2c28c74.jpg</td>\n",
       "      <td>Cricket</td>\n",
       "    </tr>\n",
       "    <tr>\n",
       "      <th>...</th>\n",
       "      <td>...</td>\n",
       "      <td>...</td>\n",
       "    </tr>\n",
       "    <tr>\n",
       "      <th>8222</th>\n",
       "      <td>903d2fffb3.jpg</td>\n",
       "      <td>Cricket</td>\n",
       "    </tr>\n",
       "    <tr>\n",
       "      <th>8223</th>\n",
       "      <td>b5f174c688.jpg</td>\n",
       "      <td>Badminton</td>\n",
       "    </tr>\n",
       "    <tr>\n",
       "      <th>8224</th>\n",
       "      <td>2433770a67.jpg</td>\n",
       "      <td>Tennis</td>\n",
       "    </tr>\n",
       "    <tr>\n",
       "      <th>8225</th>\n",
       "      <td>6403964166.jpg</td>\n",
       "      <td>Tennis</td>\n",
       "    </tr>\n",
       "    <tr>\n",
       "      <th>8226</th>\n",
       "      <td>f07f00564e.jpg</td>\n",
       "      <td>Swimming</td>\n",
       "    </tr>\n",
       "  </tbody>\n",
       "</table>\n",
       "<p>8227 rows × 2 columns</p>\n",
       "</div>"
      ],
      "text/plain": [
       "            image_ID      label\n",
       "0     7c225f7b61.jpg  Badminton\n",
       "1            b31.jpg  Badminton\n",
       "2     acb146546c.jpg  Badminton\n",
       "3     0e62f4d8f2.jpg  Badminton\n",
       "4     cfd2c28c74.jpg    Cricket\n",
       "...              ...        ...\n",
       "8222  903d2fffb3.jpg    Cricket\n",
       "8223  b5f174c688.jpg  Badminton\n",
       "8224  2433770a67.jpg     Tennis\n",
       "8225  6403964166.jpg     Tennis\n",
       "8226  f07f00564e.jpg   Swimming\n",
       "\n",
       "[8227 rows x 2 columns]"
      ]
     },
     "execution_count": 3,
     "metadata": {},
     "output_type": "execute_result"
    }
   ],
   "source": [
    "# Load CSV\n",
    "df = pd.read_csv(csv_path)\n",
    "df"
   ]
  },
  {
   "cell_type": "code",
   "execution_count": null,
   "metadata": {},
   "outputs": [
    {
     "name": "stdout",
     "output_type": "stream",
     "text": [
      "✅ Data has been split: 80% for training, 20% for validation!\n"
     ]
    }
   ],
   "source": [
    "# Split 80% training / 20% validation\n",
    "train_df, val_df = train_test_split(df, test_size=0.2, stratify= df[\"label\"], random_state=42)\n",
    "\n",
    "# Ensure output directories exist\n",
    "train_output.mkdir(parents=True, exist_ok=True)\n",
    "val_output.mkdir(parents=True, exist_ok=True)\n",
    "\n",
    "# Move images using pathlib\n",
    "def move_images(df, target_folder):\n",
    "    for _, row in df.iterrows():\n",
    "        src = train_img_dir / row['image_ID']\n",
    "        dst_folder = target_folder / row['label']\n",
    "        dst_folder.mkdir(parents=True, exist_ok=True)\n",
    "        shutil.move(str(src), str(dst_folder / row['image_ID']))\n",
    "\n",
    "move_images(train_df, train_output)\n",
    "move_images(val_df, val_output)\n",
    "\n",
    "# Save new CSV files\n",
    "train_df.to_csv(data_dir / \"train_split.csv\", index=False)\n",
    "val_df.to_csv(data_dir / \"val_split.csv\", index=False)\n",
    "\n",
    "print(\"✅ Data has been split: 80% for training, 20% for validation!\")\n"
   ]
  }
 ],
 "metadata": {
  "kernelspec": {
   "display_name": "venv",
   "language": "python",
   "name": "python3"
  },
  "language_info": {
   "codemirror_mode": {
    "name": "ipython",
    "version": 3
   },
   "file_extension": ".py",
   "mimetype": "text/x-python",
   "name": "python",
   "nbconvert_exporter": "python",
   "pygments_lexer": "ipython3",
   "version": "3.11.7"
  }
 },
 "nbformat": 4,
 "nbformat_minor": 2
}
